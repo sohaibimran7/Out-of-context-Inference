{
 "cells": [
  {
   "cell_type": "code",
   "execution_count": 1,
   "metadata": {},
   "outputs": [],
   "source": [
    "# %%\n",
    "from inspect_ai import score\n",
    "from inspect_ai.log import list_eval_logs, read_eval_log, write_eval_log\n",
    "from src.inspect_helpers.scorers import reasoning_scorers, inference_scorers\n",
    "import tqdm as tqdm"
   ]
  },
  {
   "cell_type": "code",
   "execution_count": null,
   "metadata": {},
   "outputs": [],
   "source": [
    "log_dir = \"logs/SOCR_followup/SOCR\"\n",
    "\n",
    "for log_file in tqdm.tqdm(list_eval_logs(log_dir)):\n",
    "    log = read_eval_log(log_file)\n",
    "    write_eval_log(score(log, reasoning_scorers), log_file)"
   ]
  },
  {
   "cell_type": "code",
   "execution_count": null,
   "metadata": {},
   "outputs": [],
   "source": [
    "log_dir = \"logs/SOCR_followup/SOCI\"\n",
    "\n",
    "for log_file in tqdm.tqdm(list_eval_logs(log_dir)):\n",
    "    log = read_eval_log(log_file)\n",
    "    write_eval_log(score(log, inference_scorers), log_file)"
   ]
  }
 ],
 "metadata": {
  "kernelspec": {
   "display_name": "llm-awareness",
   "language": "python",
   "name": "python3"
  },
  "language_info": {
   "codemirror_mode": {
    "name": "ipython",
    "version": 3
   },
   "file_extension": ".py",
   "mimetype": "text/x-python",
   "name": "python",
   "nbconvert_exporter": "python",
   "pygments_lexer": "ipython3",
   "version": "3.12.5"
  }
 },
 "nbformat": 4,
 "nbformat_minor": 2
}
